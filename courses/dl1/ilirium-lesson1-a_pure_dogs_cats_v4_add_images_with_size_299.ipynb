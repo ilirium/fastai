{
 "cells": [
  {
   "cell_type": "markdown",
   "metadata": {},
   "source": [
    "# Description"
   ]
  },
  {
   "cell_type": "markdown",
   "metadata": {},
   "source": [
    "To write pure code for creating the model of Dogs vs Cats\n",
    "\n",
    "https://www.kaggle.com/c/dogs-vs-cats"
   ]
  },
  {
   "cell_type": "markdown",
   "metadata": {},
   "source": [
    "# Step 1a: init"
   ]
  },
  {
   "cell_type": "code",
   "execution_count": 1,
   "metadata": {},
   "outputs": [],
   "source": [
    "# Put these at the top of every notebook, to get automatic reloading and inline plotting\n",
    "%reload_ext autoreload\n",
    "%autoreload 2\n",
    "%matplotlib inline\n",
    "\n",
    "# This file contains all the main external libs we'll use\n",
    "from fastai.imports import *\n",
    "\n",
    "from fastai.transforms import *\n",
    "from fastai.conv_learner import *\n",
    "from fastai.model import *\n",
    "from fastai.dataset import *\n",
    "from fastai.sgdr import *\n",
    "from fastai.plots import *\n",
    "\n",
    "PATH = \"data/dogscats/\""
   ]
  },
  {
   "cell_type": "markdown",
   "metadata": {},
   "source": [
    "# Step 1b: functions for analyzing results"
   ]
  },
  {
   "cell_type": "code",
   "execution_count": 2,
   "metadata": {},
   "outputs": [],
   "source": [
    "from sklearn.metrics import confusion_matrix\n",
    "\n",
    "\n",
    "def show_cm():\n",
    "    log_preds = learn.predict() # this gives prediction for validation set. Predictions are in log scale\n",
    "    preds = np.argmax(log_preds, axis=1)  # from log probabilities to 0 or 1\n",
    "    probs = np.exp(log_preds[:,1])        # pr(dog)\n",
    "    y = data.val_y # This is the label for a val data\n",
    "\n",
    "    cm = confusion_matrix(y, preds)\n",
    "    plot_confusion_matrix(cm, data.classes)\n",
    "    \n",
    "    return cm\n",
    "\n",
    "    \n",
    "def print_rates(cm):\n",
    "    print('Predicted dogs = {}'.format(cm[1, 1] + cm[0, 1]))\n",
    "    print('Predicted cats = {}'.format(cm[0, 0] + cm[1, 0]))\n",
    "    predicted_dogs = cm[1, 1] + cm[0, 1]\n",
    "    predicted_cats = cm[0, 0] + cm[1, 0]\n",
    "\n",
    "    print('Actual dogs = {}'.format(cm[0, 0] + cm[0, 1]))\n",
    "    print('Actual cats = {}'.format(cm[1, 0] + cm[1, 1]))\n",
    "    actual_dogs = cm[0, 0] + cm[0, 1]\n",
    "    actual_cats = cm[1, 0] + cm[1, 1]\n",
    "    total = actual_dogs + actual_cats\n",
    "\n",
    "    print('True dogs = {}'.format(cm[1, 1]))\n",
    "    print('True cats = {}'.format(cm[0, 0]))\n",
    "    true_dogs = cm[1, 1]\n",
    "    true_cats = cm[0, 0]\n",
    "\n",
    "    print('False dogs = {}'.format(cm[0, 1]))\n",
    "    print('False cats = {}'.format(cm[1, 0]))\n",
    "    false_dogs = cm[0, 1]\n",
    "    false_cats = cm[1, 0]\n",
    "\n",
    "    print('\\n*** Rates ***\\n')\n",
    "    accuracy = (true_dogs + true_cats) / total\n",
    "    print('Accuracy = %s' % accuracy)\n",
    "\n",
    "    misclassification_rate = (false_dogs + false_cats) / total\n",
    "    print('Misclassification rate = %s' % misclassification_rate)\n",
    "\n",
    "    true_dogs_rate = true_dogs / actual_dogs\n",
    "    print('True dogs rate = %s' % true_dogs_rate)\n",
    "\n",
    "    true_cats_rate = true_cats / actual_cats\n",
    "    print('True cats rate = %s' % true_cats_rate)"
   ]
  },
  {
   "cell_type": "markdown",
   "metadata": {},
   "source": [
    "# Step 1c: create the learn object"
   ]
  },
  {
   "cell_type": "code",
   "execution_count": 3,
   "metadata": {},
   "outputs": [],
   "source": [
    "sz = 224\n",
    "tfms = tfms_from_model(resnet34, sz, aug_tfms=transforms_side_on, max_zoom=1.1)\n",
    "\n",
    "arch = resnet34\n",
    "data = ImageClassifierData.from_paths(PATH, tfms=tfms)\n",
    "learn = ConvLearner.pretrained(arch, data, precompute=False)"
   ]
  },
  {
   "cell_type": "markdown",
   "metadata": {},
   "source": [
    "# Step 1d: load"
   ]
  },
  {
   "cell_type": "code",
   "execution_count": 4,
   "metadata": {},
   "outputs": [],
   "source": [
    "learn.load('lesson1_a_v2_unfreeze_all_layers')"
   ]
  },
  {
   "cell_type": "markdown",
   "metadata": {},
   "source": [
    "# Step 1e: checking"
   ]
  },
  {
   "cell_type": "code",
   "execution_count": 5,
   "metadata": {},
   "outputs": [
    {
     "name": "stdout",
     "output_type": "stream",
     "text": [
      "[[990  10]\n",
      " [  6 994]]\n"
     ]
    },
    {
     "data": {
      "image/png": "[encoded data removed]",
      "text/plain": [
       "<Figure size 432x288 with 2 Axes>"
      ]
     },
     "metadata": {},
     "output_type": "display_data"
    }
   ],
   "source": [
    "cm = show_cm()"
   ]
  },
  {
   "cell_type": "code",
   "execution_count": 6,
   "metadata": {},
   "outputs": [
    {
     "name": "stdout",
     "output_type": "stream",
     "text": [
      "Predicted dogs = 1004\n",
      "Predicted cats = 996\n",
      "Actual dogs = 1000\n",
      "Actual cats = 1000\n",
      "True dogs = 994\n",
      "True cats = 990\n",
      "False dogs = 10\n",
      "False cats = 6\n",
      "\n",
      "*** Rates ***\n",
      "\n",
      "Accuracy = 0.992\n",
      "Misclassification rate = 0.008\n",
      "True dogs rate = 0.994\n",
      "True cats rate = 0.99\n"
     ]
    }
   ],
   "source": [
    "print_rates(cm)"
   ]
  },
  {
   "cell_type": "markdown",
   "metadata": {},
   "source": [
    "# Step 2a: learn with new size"
   ]
  },
  {
   "cell_type": "code",
   "execution_count": 7,
   "metadata": {},
   "outputs": [],
   "source": [
    "# *** new size ***\n",
    "sz = 299\n",
    "\n",
    "tfms = tfms_from_model(resnet34, sz, aug_tfms=transforms_side_on, max_zoom=1.1)\n",
    "data = ImageClassifierData.from_paths(PATH, tfms=tfms)\n",
    "\n",
    "learn.set_data(data)\n",
    "learn.unfreeze()\n",
    "lr=np.array([1e-4, 1e-3, 1e-2])"
   ]
  },
  {
   "cell_type": "code",
   "execution_count": 8,
   "metadata": {},
   "outputs": [
    {
     "data": {
      "application/vnd.jupyter.widget-view+json": {
       "model_id": "77883af7b81e402eb3f49264b697cf04",
       "version_major": 2,
       "version_minor": 0
      },
      "text/plain": [
       "HBox(children=(IntProgress(value=0, description='Epoch', max=7), HTML(value='')))"
      ]
     },
     "metadata": {},
     "output_type": "display_data"
    },
    {
     "name": "stdout",
     "output_type": "stream",
     "text": [
      "epoch      trn_loss   val_loss   accuracy                     \n",
      "    0      0.023939   0.017195   0.993     \n",
      "    1      0.023407   0.014297   0.9935                       \n",
      "    2      0.015573   0.013268   0.9945                       \n",
      "    3      0.022072   0.013967   0.996                        \n",
      "    4      0.021406   0.015343   0.9945                       \n",
      "    5      0.01835    0.017841   0.994                        \n",
      "    6      0.013768   0.014814   0.996                         \n",
      "\n"
     ]
    },
    {
     "data": {
      "text/plain": [
       "[array([0.01481]), 0.996]"
      ]
     },
     "execution_count": 8,
     "metadata": {},
     "output_type": "execute_result"
    }
   ],
   "source": [
    "learn.fit(lr, 3, cycle_len=1, cycle_mult=2)"
   ]
  },
  {
   "cell_type": "code",
   "execution_count": 9,
   "metadata": {},
   "outputs": [
    {
     "data": {
      "image/png": "[encoded data removed]",
      "text/plain": [
       "<Figure size 432x288 with 1 Axes>"
      ]
     },
     "metadata": {},
     "output_type": "display_data"
    }
   ],
   "source": [
    "learn.sched.plot_lr()"
   ]
  },
  {
   "cell_type": "markdown",
   "metadata": {},
   "source": [
    "# Step 2b: save"
   ]
  },
  {
   "cell_type": "code",
   "execution_count": 10,
   "metadata": {},
   "outputs": [],
   "source": [
    "learn.save('lesson1_a_v4_learn_with_new_size')"
   ]
  },
  {
   "cell_type": "code",
   "execution_count": 11,
   "metadata": {},
   "outputs": [],
   "source": [
    "learn.load('lesson1_a_v4_learn_with_new_size')"
   ]
  },
  {
   "cell_type": "markdown",
   "metadata": {},
   "source": [
    "# Step 2c: results"
   ]
  },
  {
   "cell_type": "code",
   "execution_count": 12,
   "metadata": {},
   "outputs": [
    {
     "name": "stdout",
     "output_type": "stream",
     "text": [
      "[[1000    0]\n",
      " [   8  992]]\n"
     ]
    },
    {
     "data": {
      "image/png": "[encoded data removed]",
      "text/plain": [
       "<Figure size 432x288 with 2 Axes>"
      ]
     },
     "metadata": {},
     "output_type": "display_data"
    }
   ],
   "source": [
    "cm = show_cm()"
   ]
  },
  {
   "cell_type": "code",
   "execution_count": 13,
   "metadata": {},
   "outputs": [
    {
     "name": "stdout",
     "output_type": "stream",
     "text": [
      "Predicted dogs = 992\n",
      "Predicted cats = 1008\n",
      "Actual dogs = 1000\n",
      "Actual cats = 1000\n",
      "True dogs = 992\n",
      "True cats = 1000\n",
      "False dogs = 0\n",
      "False cats = 8\n",
      "\n",
      "*** Rates ***\n",
      "\n",
      "Accuracy = 0.996\n",
      "Misclassification rate = 0.004\n",
      "True dogs rate = 0.992\n",
      "True cats rate = 1.0\n"
     ]
    }
   ],
   "source": [
    "print_rates(cm)"
   ]
  },
  {
   "cell_type": "code",
   "execution_count": null,
   "metadata": {},
   "outputs": [],
   "source": []
  }
 ],
 "metadata": {
  "kernelspec": {
   "display_name": "Python 3",
   "language": "python",
   "name": "python3"
  },
  "language_info": {
   "codemirror_mode": {
    "name": "ipython",
    "version": 3
   },
   "file_extension": ".py",
   "mimetype": "text/x-python",
   "name": "python",
   "nbconvert_exporter": "python",
   "pygments_lexer": "ipython3",
   "version": "3.6.5"
  },
  "toc": {
   "base_numbering": 1,
   "nav_menu": {},
   "number_sections": true,
   "sideBar": true,
   "skip_h1_title": false,
   "title_cell": "Table of Contents",
   "title_sidebar": "Contents",
   "toc_cell": false,
   "toc_position": {},
   "toc_section_display": true,
   "toc_window_display": true
  }
 },
 "nbformat": 4,
 "nbformat_minor": 2
}
