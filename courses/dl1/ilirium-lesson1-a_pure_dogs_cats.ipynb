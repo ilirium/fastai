{
 "cells": [
  {
   "cell_type": "markdown",
   "metadata": {
    "heading_collapsed": true
   },
   "source": [
    "# Description"
   ]
  },
  {
   "cell_type": "markdown",
   "metadata": {
    "hidden": true
   },
   "source": [
    "To write pure code for creating the model of Dogs vs Cats\n",
    "\n",
    "https://www.kaggle.com/c/dogs-vs-cats"
   ]
  },
  {
   "cell_type": "markdown",
   "metadata": {},
   "source": [
    "# Review: easy steps to train a world-class image classifier"
   ]
  },
  {
   "cell_type": "markdown",
   "metadata": {},
   "source": [
    "Original plans:\n",
    "\n",
    "1. precompute=True\n",
    "1. Use `lr_find()` to find highest learning rate where loss is still clearly improving\n",
    "1. Train last layer from precomputed activations for 1-2 epochs\n",
    "1. Train last layer with data augmentation (i.e. precompute=False) for 2-3 epochs with cycle_len=1\n",
    "1. Unfreeze all layers\n",
    "1. Set earlier layers to 3x-10x lower learning rate than next higher layer\n",
    "1. Use `lr_find()` again\n",
    "1. Train full network with cycle_mult=2 until over-fitting\n",
    "\n",
    "\n",
    "Edited by me:\n",
    "1. Step 1\n",
    "    1. Initialization\n",
    "1. Step 2\n",
    "    1. Use `lr_find()` to find highest learning rate where loss is still clearly improving\n",
    "1. Step 3\n",
    "    1. precompute=True\n",
    "    1. Train last layer from precomputed activations for 1-2 epochs\n",
    "1. Step 4: analyzing results\n",
    "1. Step 5\n",
    "    1. Train last layer with data augmentation (i.e. precompute=False) for 2-3 epochs with cycle_len=1\n",
    "1. Step 6: analyzing results\n",
    "1. Step 7\n",
    "    1. Unfreeze all layers\n",
    "    1. Set earlier layers to 3x-10x lower learning rate than next higher layer\n",
    "    1. Use `lr_find()` again\n",
    "    1. Train full network with cycle_mult=2 until over-fitting\n",
    "1. Step 8: analyzing results\n",
    "1. Step 9: TTA\n",
    "    1. Use the TTA\n",
    "1. Step 10: analyzing results"
   ]
  },
  {
   "cell_type": "markdown",
   "metadata": {},
   "source": [
    "# Step 1: init"
   ]
  },
  {
   "cell_type": "code",
   "execution_count": 1,
   "metadata": {},
   "outputs": [],
   "source": [
    "# Put these at the top of every notebook, to get automatic reloading and inline plotting\n",
    "%reload_ext autoreload\n",
    "%autoreload 2\n",
    "%matplotlib inline"
   ]
  },
  {
   "cell_type": "code",
   "execution_count": 2,
   "metadata": {},
   "outputs": [],
   "source": [
    "# This file contains all the main external libs we'll use\n",
    "from fastai.imports import *"
   ]
  },
  {
   "cell_type": "code",
   "execution_count": 3,
   "metadata": {},
   "outputs": [],
   "source": [
    "from fastai.transforms import *\n",
    "from fastai.conv_learner import *\n",
    "from fastai.model import *\n",
    "from fastai.dataset import *\n",
    "from fastai.sgdr import *\n",
    "from fastai.plots import *"
   ]
  },
  {
   "cell_type": "code",
   "execution_count": 4,
   "metadata": {},
   "outputs": [],
   "source": [
    "PATH = \"data/dogscats/\"\n",
    "sz=224"
   ]
  },
  {
   "cell_type": "code",
   "execution_count": 5,
   "metadata": {},
   "outputs": [
    {
     "data": {
      "text/plain": [
       "True"
      ]
     },
     "execution_count": 5,
     "metadata": {},
     "output_type": "execute_result"
    }
   ],
   "source": [
    "torch.cuda.is_available()"
   ]
  },
  {
   "cell_type": "code",
   "execution_count": 6,
   "metadata": {},
   "outputs": [
    {
     "data": {
      "text/plain": [
       "True"
      ]
     },
     "execution_count": 6,
     "metadata": {},
     "output_type": "execute_result"
    }
   ],
   "source": [
    "torch.backends.cudnn.enabled"
   ]
  },
  {
   "cell_type": "markdown",
   "metadata": {},
   "source": [
    "# Step 2: finding learning rate"
   ]
  },
  {
   "cell_type": "code",
   "execution_count": 11,
   "metadata": {},
   "outputs": [],
   "source": [
    "# ITSMY:\n",
    "\n",
    "arch=resnet34\n",
    "data = ImageClassifierData.from_paths(PATH, tfms=tfms_from_model(arch, sz))"
   ]
  },
  {
   "cell_type": "code",
   "execution_count": 12,
   "metadata": {},
   "outputs": [],
   "source": [
    "learn = ConvLearner.pretrained(arch, data, precompute=True)"
   ]
  },
  {
   "cell_type": "code",
   "execution_count": 13,
   "metadata": {},
   "outputs": [
    {
     "data": {
      "application/vnd.jupyter.widget-view+json": {
       "model_id": "f7afe28d43434356990726822011658a",
       "version_major": 2,
       "version_minor": 0
      },
      "text/plain": [
       "HBox(children=(IntProgress(value=0, description='Epoch', max=1), HTML(value='')))"
      ]
     },
     "metadata": {},
     "output_type": "display_data"
    },
    {
     "name": "stdout",
     "output_type": "stream",
     "text": [
      " 79%|███████▉  | 284/360 [00:04<00:01, 68.52it/s, loss=0.192]\n",
      "                                                             \r"
     ]
    }
   ],
   "source": [
    "lrf=learn.lr_find()"
   ]
  },
  {
   "cell_type": "code",
   "execution_count": 14,
   "metadata": {},
   "outputs": [
    {
     "data": {
      "image/png": "[encoded data removed]",
      "text/plain": [
       "<Figure size 432x288 with 1 Axes>"
      ]
     },
     "metadata": {},
     "output_type": "display_data"
    }
   ],
   "source": [
    "learn.sched.plot_lr()"
   ]
  },
  {
   "cell_type": "code",
   "execution_count": 15,
   "metadata": {},
   "outputs": [
    {
     "data": {
      "image/png": "[encoded data removed]",
      "text/plain": [
       "<Figure size 432x288 with 1 Axes>"
      ]
     },
     "metadata": {},
     "output_type": "display_data"
    }
   ],
   "source": [
    "learn.sched.plot()"
   ]
  },
  {
   "cell_type": "markdown",
   "metadata": {},
   "source": [
    "\\# ITSMY:\n",
    "\n",
    "We can see that the minimum of the valivation loss (~0.1) is equal to the 1e-1 of learning rate. As recommended in Lesson 2, we should choose a LR value one order of magnitude smaller. Hence, the LR must be 1e-2."
   ]
  },
  {
   "cell_type": "markdown",
   "metadata": {},
   "source": [
    "# Step 3: first training"
   ]
  },
  {
   "cell_type": "code",
   "execution_count": 16,
   "metadata": {},
   "outputs": [
    {
     "data": {
      "application/vnd.jupyter.widget-view+json": {
       "model_id": "3be81608fcd64c71b94f72c356d3b925",
       "version_major": 2,
       "version_minor": 0
      },
      "text/plain": [
       "HBox(children=(IntProgress(value=0, description='Epoch', max=2), HTML(value='')))"
      ]
     },
     "metadata": {},
     "output_type": "display_data"
    },
    {
     "name": "stdout",
     "output_type": "stream",
     "text": [
      "epoch      trn_loss   val_loss   accuracy                     \n",
      "    0      0.048217   0.030069   0.9865    \n",
      "    1      0.046138   0.026082   0.9885                       \n",
      "\n"
     ]
    },
    {
     "data": {
      "text/plain": [
       "[array([0.02608]), 0.9885]"
      ]
     },
     "execution_count": 16,
     "metadata": {},
     "output_type": "execute_result"
    }
   ],
   "source": [
    "arch=resnet34\n",
    "data = ImageClassifierData.from_paths(PATH, tfms=tfms_from_model(arch, sz))\n",
    "learn = ConvLearner.pretrained(arch, data, precompute=True)\n",
    "learn.fit(0.01, 2)"
   ]
  },
  {
   "cell_type": "markdown",
   "metadata": {},
   "source": [
    "# Step 4: analyzing results"
   ]
  },
  {
   "cell_type": "code",
   "execution_count": 17,
   "metadata": {},
   "outputs": [
    {
     "data": {
      "text/plain": [
       "(2000, 2)"
      ]
     },
     "execution_count": 17,
     "metadata": {},
     "output_type": "execute_result"
    }
   ],
   "source": [
    "# this gives prediction for validation set. Predictions are in log scale\n",
    "log_preds = learn.predict()\n",
    "log_preds.shape"
   ]
  },
  {
   "cell_type": "code",
   "execution_count": 18,
   "metadata": {},
   "outputs": [],
   "source": [
    "preds = np.argmax(log_preds, axis=1)  # from log probabilities to 0 or 1\n",
    "probs = np.exp(log_preds[:,1])        # pr(dog)"
   ]
  },
  {
   "cell_type": "code",
   "execution_count": 19,
   "metadata": {},
   "outputs": [
    {
     "data": {
      "text/plain": [
       "(2000,)"
      ]
     },
     "execution_count": 19,
     "metadata": {},
     "output_type": "execute_result"
    }
   ],
   "source": [
    "# ITSMY:\n",
    "\n",
    "# This is the label for a val data\n",
    "y = data.val_y\n",
    "y.shape"
   ]
  },
  {
   "cell_type": "code",
   "execution_count": 20,
   "metadata": {},
   "outputs": [],
   "source": [
    "from sklearn.metrics import confusion_matrix\n",
    "cm = confusion_matrix(y, preds)"
   ]
  },
  {
   "cell_type": "code",
   "execution_count": 21,
   "metadata": {},
   "outputs": [
    {
     "name": "stdout",
     "output_type": "stream",
     "text": [
      "[[991   9]\n",
      " [ 14 986]]\n"
     ]
    },
    {
     "data": {
      "image/png": "[encoded data removed]",
      "text/plain": [
       "<Figure size 432x288 with 2 Axes>"
      ]
     },
     "metadata": {},
     "output_type": "display_data"
    }
   ],
   "source": [
    "plot_confusion_matrix(cm, data.classes)"
   ]
  },
  {
   "cell_type": "code",
   "execution_count": 22,
   "metadata": {},
   "outputs": [
    {
     "name": "stdout",
     "output_type": "stream",
     "text": [
      "Predicted dogs = 995\n",
      "Predicted cats = 1005\n",
      "Actual dogs = 1000\n",
      "Actual cats = 1000\n",
      "True dogs = 986\n",
      "True cats = 991\n",
      "False dogs = 9\n",
      "False cats = 14\n",
      "\n",
      "*** Rates ***\n",
      "\n",
      "Accuracy = 0.9885\n",
      "Misclassification rate = 0.0115\n",
      "True dogs rate = 0.986\n",
      "True cats rate = 0.991\n"
     ]
    }
   ],
   "source": [
    "# ITSMY: calculate some rates from the confusion matrix\n",
    "\n",
    "# Format of cm: cm[row, col]\n",
    "\n",
    "print('Predicted dogs = {}'.format(cm[1, 1] + cm[0, 1]))\n",
    "print('Predicted cats = {}'.format(cm[0, 0] + cm[1, 0]))\n",
    "predicted_dogs = cm[1, 1] + cm[0, 1]\n",
    "predicted_cats = cm[0, 0] + cm[1, 0]\n",
    "\n",
    "print('Actual dogs = {}'.format(cm[0, 0] + cm[0, 1]))\n",
    "print('Actual cats = {}'.format(cm[1, 0] + cm[1, 1]))\n",
    "actual_dogs = cm[0, 0] + cm[0, 1]\n",
    "actual_cats = cm[1, 0] + cm[1, 1]\n",
    "total = actual_dogs + actual_cats\n",
    "\n",
    "print('True dogs = {}'.format(cm[1, 1]))\n",
    "print('True cats = {}'.format(cm[0, 0]))\n",
    "true_dogs = cm[1, 1]\n",
    "true_cats = cm[0, 0]\n",
    "\n",
    "print('False dogs = {}'.format(cm[0, 1]))\n",
    "print('False cats = {}'.format(cm[1, 0]))\n",
    "false_dogs = cm[0, 1]\n",
    "false_cats = cm[1, 0]\n",
    "\n",
    "print('\\n*** Rates ***\\n')\n",
    "accuracy = (true_dogs + true_cats) / total\n",
    "print('Accuracy = %s' % accuracy)\n",
    "\n",
    "misclassification_rate = (false_dogs + false_cats) / total\n",
    "print('Misclassification rate = %s' % misclassification_rate)\n",
    "\n",
    "true_dogs_rate = true_dogs / actual_dogs\n",
    "print('True dogs rate = %s' % true_dogs_rate)\n",
    "\n",
    "true_cats_rate = true_cats / actual_cats\n",
    "print('True cats rate = %s' % true_cats_rate)"
   ]
  },
  {
   "cell_type": "markdown",
   "metadata": {},
   "source": [
    "# Step 5: data augmentation"
   ]
  },
  {
   "cell_type": "code",
   "execution_count": 23,
   "metadata": {},
   "outputs": [],
   "source": [
    "tfms = tfms_from_model(resnet34, sz, aug_tfms=transforms_side_on, max_zoom=1.1)"
   ]
  },
  {
   "cell_type": "code",
   "execution_count": 24,
   "metadata": {},
   "outputs": [],
   "source": [
    "def get_augs():\n",
    "    data = ImageClassifierData.from_paths(PATH, bs=2, tfms=tfms, num_workers=1)\n",
    "    x,_ = next(iter(data.aug_dl))\n",
    "    return data.trn_ds.denorm(x)[1]"
   ]
  },
  {
   "cell_type": "code",
   "execution_count": 25,
   "metadata": {},
   "outputs": [],
   "source": [
    "data = ImageClassifierData.from_paths(PATH, tfms=tfms)\n",
    "learn = ConvLearner.pretrained(arch, data, precompute=True)"
   ]
  },
  {
   "cell_type": "code",
   "execution_count": 26,
   "metadata": {},
   "outputs": [],
   "source": [
    "learn.precompute=False"
   ]
  },
  {
   "cell_type": "code",
   "execution_count": 27,
   "metadata": {},
   "outputs": [
    {
     "data": {
      "application/vnd.jupyter.widget-view+json": {
       "model_id": "1e2ca18caefa4e2dadb15612cc77f0ed",
       "version_major": 2,
       "version_minor": 0
      },
      "text/plain": [
       "HBox(children=(IntProgress(value=0, description='Epoch', max=3), HTML(value='')))"
      ]
     },
     "metadata": {},
     "output_type": "display_data"
    },
    {
     "name": "stdout",
     "output_type": "stream",
     "text": [
      "epoch      trn_loss   val_loss   accuracy                     \n",
      "    0      0.06277    0.029466   0.99      \n",
      "    1      0.047464   0.025175   0.9905                       \n",
      "    2      0.04239    0.024525   0.991                        \n",
      "\n"
     ]
    },
    {
     "data": {
      "text/plain": [
       "[array([0.02452]), 0.991]"
      ]
     },
     "execution_count": 27,
     "metadata": {},
     "output_type": "execute_result"
    }
   ],
   "source": [
    "learn.fit(1e-2, 3, cycle_len=1)"
   ]
  },
  {
   "cell_type": "code",
   "execution_count": 28,
   "metadata": {},
   "outputs": [
    {
     "data": {
      "image/png": "[encoded data removed]",
      "text/plain": [
       "<Figure size 432x288 with 1 Axes>"
      ]
     },
     "metadata": {},
     "output_type": "display_data"
    }
   ],
   "source": [
    "learn.sched.plot_lr()"
   ]
  },
  {
   "cell_type": "markdown",
   "metadata": {},
   "source": [
    "# Step 6: analyzing results"
   ]
  },
  {
   "cell_type": "code",
   "execution_count": 29,
   "metadata": {},
   "outputs": [
    {
     "data": {
      "text/plain": [
       "(2000, 2)"
      ]
     },
     "execution_count": 29,
     "metadata": {},
     "output_type": "execute_result"
    }
   ],
   "source": [
    "# this gives prediction for validation set. Predictions are in log scale\n",
    "log_preds = learn.predict()\n",
    "log_preds.shape"
   ]
  },
  {
   "cell_type": "code",
   "execution_count": 30,
   "metadata": {},
   "outputs": [],
   "source": [
    "preds = np.argmax(log_preds, axis=1)  # from log probabilities to 0 or 1\n",
    "probs = np.exp(log_preds[:,1])        # pr(dog)"
   ]
  },
  {
   "cell_type": "code",
   "execution_count": 31,
   "metadata": {},
   "outputs": [
    {
     "data": {
      "text/plain": [
       "(2000,)"
      ]
     },
     "execution_count": 31,
     "metadata": {},
     "output_type": "execute_result"
    }
   ],
   "source": [
    "# ITSMY:\n",
    "\n",
    "# This is the label for a val data\n",
    "y = data.val_y\n",
    "y.shape"
   ]
  },
  {
   "cell_type": "code",
   "execution_count": 32,
   "metadata": {},
   "outputs": [],
   "source": [
    "from sklearn.metrics import confusion_matrix\n",
    "cm = confusion_matrix(y, preds)"
   ]
  },
  {
   "cell_type": "code",
   "execution_count": 33,
   "metadata": {},
   "outputs": [
    {
     "name": "stdout",
     "output_type": "stream",
     "text": [
      "[[993   7]\n",
      " [ 11 989]]\n"
     ]
    },
    {
     "data": {
      "image/png": "[encoded data removed]",
      "text/plain": [
       "<Figure size 432x288 with 2 Axes>"
      ]
     },
     "metadata": {},
     "output_type": "display_data"
    }
   ],
   "source": [
    "plot_confusion_matrix(cm, data.classes)"
   ]
  },
  {
   "cell_type": "code",
   "execution_count": 34,
   "metadata": {},
   "outputs": [
    {
     "name": "stdout",
     "output_type": "stream",
     "text": [
      "Predicted dogs = 996\n",
      "Predicted cats = 1004\n",
      "Actual dogs = 1000\n",
      "Actual cats = 1000\n",
      "True dogs = 989\n",
      "True cats = 993\n",
      "False dogs = 7\n",
      "False cats = 11\n",
      "\n",
      "*** Rates ***\n",
      "\n",
      "Accuracy = 0.991\n",
      "Misclassification rate = 0.009\n",
      "True dogs rate = 0.989\n",
      "True cats rate = 0.993\n"
     ]
    }
   ],
   "source": [
    "# ITSMY: calculate some rates from the confusion matrix\n",
    "\n",
    "# Format of cm: cm[row, col]\n",
    "\n",
    "print('Predicted dogs = {}'.format(cm[1, 1] + cm[0, 1]))\n",
    "print('Predicted cats = {}'.format(cm[0, 0] + cm[1, 0]))\n",
    "predicted_dogs = cm[1, 1] + cm[0, 1]\n",
    "predicted_cats = cm[0, 0] + cm[1, 0]\n",
    "\n",
    "print('Actual dogs = {}'.format(cm[0, 0] + cm[0, 1]))\n",
    "print('Actual cats = {}'.format(cm[1, 0] + cm[1, 1]))\n",
    "actual_dogs = cm[0, 0] + cm[0, 1]\n",
    "actual_cats = cm[1, 0] + cm[1, 1]\n",
    "total = actual_dogs + actual_cats\n",
    "\n",
    "print('True dogs = {}'.format(cm[1, 1]))\n",
    "print('True cats = {}'.format(cm[0, 0]))\n",
    "true_dogs = cm[1, 1]\n",
    "true_cats = cm[0, 0]\n",
    "\n",
    "print('False dogs = {}'.format(cm[0, 1]))\n",
    "print('False cats = {}'.format(cm[1, 0]))\n",
    "false_dogs = cm[0, 1]\n",
    "false_cats = cm[1, 0]\n",
    "\n",
    "print('\\n*** Rates ***\\n')\n",
    "accuracy = (true_dogs + true_cats) / total\n",
    "print('Accuracy = %s' % accuracy)\n",
    "\n",
    "misclassification_rate = (false_dogs + false_cats) / total\n",
    "print('Misclassification rate = %s' % misclassification_rate)\n",
    "\n",
    "true_dogs_rate = true_dogs / actual_dogs\n",
    "print('True dogs rate = %s' % true_dogs_rate)\n",
    "\n",
    "true_cats_rate = true_cats / actual_cats\n",
    "print('True cats rate = %s' % true_cats_rate)"
   ]
  },
  {
   "cell_type": "markdown",
   "metadata": {},
   "source": [
    "# Step 7: unfrezze all layers"
   ]
  },
  {
   "cell_type": "code",
   "execution_count": 35,
   "metadata": {},
   "outputs": [],
   "source": [
    "learn.unfreeze()"
   ]
  },
  {
   "cell_type": "code",
   "execution_count": 36,
   "metadata": {},
   "outputs": [],
   "source": [
    "lr=np.array([1e-4,1e-3,1e-2])"
   ]
  },
  {
   "cell_type": "code",
   "execution_count": 37,
   "metadata": {},
   "outputs": [
    {
     "data": {
      "application/vnd.jupyter.widget-view+json": {
       "model_id": "6c4d3b8cd23141e58a862a279dff7f22",
       "version_major": 2,
       "version_minor": 0
      },
      "text/plain": [
       "HBox(children=(IntProgress(value=0, description='Epoch', max=7), HTML(value='')))"
      ]
     },
     "metadata": {},
     "output_type": "display_data"
    },
    {
     "name": "stdout",
     "output_type": "stream",
     "text": [
      "epoch      trn_loss   val_loss   accuracy                     \n",
      "    0      0.043128   0.026869   0.99      \n",
      "    1      0.036925   0.024405   0.99                         \n",
      "    2      0.033234   0.023878   0.99                         \n",
      "    3      0.026184   0.023404   0.9905                       \n",
      "    4      0.023668   0.022382   0.991                        \n",
      "    5      0.025952   0.022911   0.991                        \n",
      "    6      0.021524   0.022294   0.9925                       \n",
      "\n"
     ]
    },
    {
     "data": {
      "text/plain": [
       "[array([0.02229]), 0.9925]"
      ]
     },
     "execution_count": 37,
     "metadata": {},
     "output_type": "execute_result"
    }
   ],
   "source": [
    "learn.fit(lr, 3, cycle_len=1, cycle_mult=2)"
   ]
  },
  {
   "cell_type": "code",
   "execution_count": 38,
   "metadata": {},
   "outputs": [
    {
     "data": {
      "image/png": "[encoded data removed]",
      "text/plain": [
       "<Figure size 432x288 with 1 Axes>"
      ]
     },
     "metadata": {},
     "output_type": "display_data"
    }
   ],
   "source": [
    "learn.sched.plot_lr()"
   ]
  },
  {
   "cell_type": "markdown",
   "metadata": {},
   "source": [
    "# Step 8: analyzing results"
   ]
  },
  {
   "cell_type": "code",
   "execution_count": 39,
   "metadata": {},
   "outputs": [
    {
     "data": {
      "text/plain": [
       "(2000, 2)"
      ]
     },
     "execution_count": 39,
     "metadata": {},
     "output_type": "execute_result"
    }
   ],
   "source": [
    "# this gives prediction for validation set. Predictions are in log scale\n",
    "log_preds = learn.predict()\n",
    "log_preds.shape"
   ]
  },
  {
   "cell_type": "code",
   "execution_count": 40,
   "metadata": {},
   "outputs": [],
   "source": [
    "preds = np.argmax(log_preds, axis=1)  # from log probabilities to 0 or 1\n",
    "probs = np.exp(log_preds[:,1])        # pr(dog)"
   ]
  },
  {
   "cell_type": "code",
   "execution_count": 41,
   "metadata": {},
   "outputs": [
    {
     "data": {
      "text/plain": [
       "(2000,)"
      ]
     },
     "execution_count": 41,
     "metadata": {},
     "output_type": "execute_result"
    }
   ],
   "source": [
    "# ITSMY:\n",
    "\n",
    "# This is the label for a val data\n",
    "y = data.val_y\n",
    "y.shape"
   ]
  },
  {
   "cell_type": "code",
   "execution_count": 42,
   "metadata": {},
   "outputs": [],
   "source": [
    "from sklearn.metrics import confusion_matrix\n",
    "cm = confusion_matrix(y, preds)"
   ]
  },
  {
   "cell_type": "code",
   "execution_count": 43,
   "metadata": {},
   "outputs": [
    {
     "name": "stdout",
     "output_type": "stream",
     "text": [
      "[[993   7]\n",
      " [  8 992]]\n"
     ]
    },
    {
     "data": {
      "image/png": "[encoded data removed]",
      "text/plain": [
       "<Figure size 432x288 with 2 Axes>"
      ]
     },
     "metadata": {},
     "output_type": "display_data"
    }
   ],
   "source": [
    "plot_confusion_matrix(cm, data.classes)"
   ]
  },
  {
   "cell_type": "code",
   "execution_count": 44,
   "metadata": {},
   "outputs": [
    {
     "name": "stdout",
     "output_type": "stream",
     "text": [
      "Predicted dogs = 999\n",
      "Predicted cats = 1001\n",
      "Actual dogs = 1000\n",
      "Actual cats = 1000\n",
      "True dogs = 992\n",
      "True cats = 993\n",
      "False dogs = 7\n",
      "False cats = 8\n",
      "\n",
      "*** Rates ***\n",
      "\n",
      "Accuracy = 0.9925\n",
      "Misclassification rate = 0.0075\n",
      "True dogs rate = 0.992\n",
      "True cats rate = 0.993\n"
     ]
    }
   ],
   "source": [
    "# ITSMY: calculate some rates from the confusion matrix\n",
    "\n",
    "# Format of cm: cm[row, col]\n",
    "\n",
    "print('Predicted dogs = {}'.format(cm[1, 1] + cm[0, 1]))\n",
    "print('Predicted cats = {}'.format(cm[0, 0] + cm[1, 0]))\n",
    "predicted_dogs = cm[1, 1] + cm[0, 1]\n",
    "predicted_cats = cm[0, 0] + cm[1, 0]\n",
    "\n",
    "print('Actual dogs = {}'.format(cm[0, 0] + cm[0, 1]))\n",
    "print('Actual cats = {}'.format(cm[1, 0] + cm[1, 1]))\n",
    "actual_dogs = cm[0, 0] + cm[0, 1]\n",
    "actual_cats = cm[1, 0] + cm[1, 1]\n",
    "total = actual_dogs + actual_cats\n",
    "\n",
    "print('True dogs = {}'.format(cm[1, 1]))\n",
    "print('True cats = {}'.format(cm[0, 0]))\n",
    "true_dogs = cm[1, 1]\n",
    "true_cats = cm[0, 0]\n",
    "\n",
    "print('False dogs = {}'.format(cm[0, 1]))\n",
    "print('False cats = {}'.format(cm[1, 0]))\n",
    "false_dogs = cm[0, 1]\n",
    "false_cats = cm[1, 0]\n",
    "\n",
    "print('\\n*** Rates ***\\n')\n",
    "accuracy = (true_dogs + true_cats) / total\n",
    "print('Accuracy = %s' % accuracy)\n",
    "\n",
    "misclassification_rate = (false_dogs + false_cats) / total\n",
    "print('Misclassification rate = %s' % misclassification_rate)\n",
    "\n",
    "true_dogs_rate = true_dogs / actual_dogs\n",
    "print('True dogs rate = %s' % true_dogs_rate)\n",
    "\n",
    "true_cats_rate = true_cats / actual_cats\n",
    "print('True cats rate = %s' % true_cats_rate)"
   ]
  },
  {
   "cell_type": "markdown",
   "metadata": {},
   "source": [
    "# Step 9: TTA"
   ]
  },
  {
   "cell_type": "code",
   "execution_count": 54,
   "metadata": {},
   "outputs": [
    {
     "name": "stdout",
     "output_type": "stream",
     "text": [
      "                                             \r"
     ]
    }
   ],
   "source": [
    "log_preds,y = learn.TTA()\n",
    "probs = np.mean(np.exp(log_preds),0)"
   ]
  },
  {
   "cell_type": "markdown",
   "metadata": {},
   "source": [
    "# Step 10: analyzing results"
   ]
  },
  {
   "cell_type": "code",
   "execution_count": 46,
   "metadata": {},
   "outputs": [
    {
     "data": {
      "text/plain": [
       "(2000, 2)"
      ]
     },
     "execution_count": 46,
     "metadata": {},
     "output_type": "execute_result"
    }
   ],
   "source": [
    "# this gives prediction for validation set. Predictions are in log scale\n",
    "log_preds = learn.predict()\n",
    "log_preds.shape"
   ]
  },
  {
   "cell_type": "code",
   "execution_count": 47,
   "metadata": {},
   "outputs": [],
   "source": [
    "preds = np.argmax(log_preds, axis=1)  # from log probabilities to 0 or 1\n",
    "probs = np.exp(log_preds[:,1])        # pr(dog)"
   ]
  },
  {
   "cell_type": "code",
   "execution_count": 48,
   "metadata": {},
   "outputs": [
    {
     "data": {
      "text/plain": [
       "(2000,)"
      ]
     },
     "execution_count": 48,
     "metadata": {},
     "output_type": "execute_result"
    }
   ],
   "source": [
    "# ITSMY:\n",
    "\n",
    "# This is the label for a val data\n",
    "y = data.val_y\n",
    "y.shape"
   ]
  },
  {
   "cell_type": "code",
   "execution_count": 55,
   "metadata": {},
   "outputs": [],
   "source": [
    "from sklearn.metrics import confusion_matrix\n",
    "cm = confusion_matrix(y, preds)"
   ]
  },
  {
   "cell_type": "code",
   "execution_count": 56,
   "metadata": {},
   "outputs": [
    {
     "name": "stdout",
     "output_type": "stream",
     "text": [
      "[[993   7]\n",
      " [  8 992]]\n"
     ]
    },
    {
     "data": {
      "image/png": "[encoded data removed]",
      "text/plain": [
       "<Figure size 432x288 with 2 Axes>"
      ]
     },
     "metadata": {},
     "output_type": "display_data"
    }
   ],
   "source": [
    "plot_confusion_matrix(cm, data.classes)"
   ]
  },
  {
   "cell_type": "code",
   "execution_count": 51,
   "metadata": {},
   "outputs": [
    {
     "name": "stdout",
     "output_type": "stream",
     "text": [
      "Predicted dogs = 999\n",
      "Predicted cats = 1001\n",
      "Actual dogs = 1000\n",
      "Actual cats = 1000\n",
      "True dogs = 992\n",
      "True cats = 993\n",
      "False dogs = 7\n",
      "False cats = 8\n",
      "\n",
      "*** Rates ***\n",
      "\n",
      "Accuracy = 0.9925\n",
      "Misclassification rate = 0.0075\n",
      "True dogs rate = 0.992\n",
      "True cats rate = 0.993\n"
     ]
    }
   ],
   "source": [
    "# ITSMY: calculate some rates from the confusion matrix\n",
    "\n",
    "# Format of cm: cm[row, col]\n",
    "\n",
    "print('Predicted dogs = {}'.format(cm[1, 1] + cm[0, 1]))\n",
    "print('Predicted cats = {}'.format(cm[0, 0] + cm[1, 0]))\n",
    "predicted_dogs = cm[1, 1] + cm[0, 1]\n",
    "predicted_cats = cm[0, 0] + cm[1, 0]\n",
    "\n",
    "print('Actual dogs = {}'.format(cm[0, 0] + cm[0, 1]))\n",
    "print('Actual cats = {}'.format(cm[1, 0] + cm[1, 1]))\n",
    "actual_dogs = cm[0, 0] + cm[0, 1]\n",
    "actual_cats = cm[1, 0] + cm[1, 1]\n",
    "total = actual_dogs + actual_cats\n",
    "\n",
    "print('True dogs = {}'.format(cm[1, 1]))\n",
    "print('True cats = {}'.format(cm[0, 0]))\n",
    "true_dogs = cm[1, 1]\n",
    "true_cats = cm[0, 0]\n",
    "\n",
    "print('False dogs = {}'.format(cm[0, 1]))\n",
    "print('False cats = {}'.format(cm[1, 0]))\n",
    "false_dogs = cm[0, 1]\n",
    "false_cats = cm[1, 0]\n",
    "\n",
    "print('\\n*** Rates ***\\n')\n",
    "accuracy = (true_dogs + true_cats) / total\n",
    "print('Accuracy = %s' % accuracy)\n",
    "\n",
    "misclassification_rate = (false_dogs + false_cats) / total\n",
    "print('Misclassification rate = %s' % misclassification_rate)\n",
    "\n",
    "true_dogs_rate = true_dogs / actual_dogs\n",
    "print('True dogs rate = %s' % true_dogs_rate)\n",
    "\n",
    "true_cats_rate = true_cats / actual_cats\n",
    "print('True cats rate = %s' % true_cats_rate)"
   ]
  },
  {
   "cell_type": "markdown",
   "metadata": {},
   "source": [
    "# Step 11: save the model"
   ]
  },
  {
   "cell_type": "code",
   "execution_count": 52,
   "metadata": {},
   "outputs": [],
   "source": [
    "learn.save('v001_finished')"
   ]
  },
  {
   "cell_type": "code",
   "execution_count": 53,
   "metadata": {},
   "outputs": [],
   "source": [
    "learn.load('v001_finished')"
   ]
  }
 ],
 "metadata": {
  "kernelspec": {
   "display_name": "Python 3",
   "language": "python",
   "name": "python3"
  },
  "language_info": {
   "codemirror_mode": {
    "name": "ipython",
    "version": 3
   },
   "file_extension": ".py",
   "mimetype": "text/x-python",
   "name": "python",
   "nbconvert_exporter": "python",
   "pygments_lexer": "ipython3",
   "version": "3.6.5"
  },
  "toc": {
   "base_numbering": 1,
   "nav_menu": {},
   "number_sections": true,
   "sideBar": true,
   "skip_h1_title": false,
   "title_cell": "Table of Contents",
   "title_sidebar": "Contents",
   "toc_cell": false,
   "toc_position": {},
   "toc_section_display": true,
   "toc_window_display": true
  }
 },
 "nbformat": 4,
 "nbformat_minor": 2
}
